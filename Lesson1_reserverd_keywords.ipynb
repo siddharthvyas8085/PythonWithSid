{
 "cells": [
  {
   "cell_type": "markdown",
   "id": "63dd767d",
   "metadata": {},
   "source": [
    "# Reserved word\n",
    "\"\"\"\n",
    "1. Overview of python\n",
    "2. Reserved word\n",
    "\"\"\""
   ]
  },
  {
   "cell_type": "code",
   "execution_count": 1,
   "id": "67d68787",
   "metadata": {},
   "outputs": [
    {
     "name": "stdout",
     "output_type": "stream",
     "text": [
      "The list of keywords is : \n",
      "['False', 'None', 'True', '__peg_parser__', 'and', 'as', 'assert', 'async', 'await', 'break', 'class', 'continue', 'def', 'del', 'elif', 'else', 'except', 'finally', 'for', 'from', 'global', 'if', 'import', 'in', 'is', 'lambda', 'nonlocal', 'not', 'or', 'pass', 'raise', 'return', 'try', 'while', 'with', 'yield']\n"
     ]
    }
   ],
   "source": [
    "import keyword\n",
    " \n",
    "# printing all keywords at once using \"kwlist()\"\n",
    "print(\"The list of keywords is : \")\n",
    "print(keyword.kwlist)"
   ]
  },
  {
   "cell_type": "code",
   "execution_count": null,
   "id": "830558e5",
   "metadata": {},
   "outputs": [],
   "source": [
    "# Boolean Keywords\n",
    "print(False == 0)\n",
    "print(True == 1)\n",
    " \n",
    "print(True + True + True)\n",
    "print(True + False + False)\n",
    "\n",
    "# Special Constant\n",
    "print(None == 0)\n",
    "print(None == [])"
   ]
  },
  {
   "cell_type": "code",
   "execution_count": 3,
   "id": "408e4ed8",
   "metadata": {},
   "outputs": [
    {
     "name": "stdout",
     "output_type": "stream",
     "text": [
      "True\n",
      "False\n",
      "False\n"
     ]
    }
   ],
   "source": [
    "print(True or False)\n",
    "print(False and True)\n",
    "print(not True)"
   ]
  },
  {
   "cell_type": "code",
   "execution_count": null,
   "id": "a9169b75",
   "metadata": {},
   "outputs": [],
   "source": [
    "# Positional Keywords: is, in\n",
    "if 's' in 'siddharth':\n",
    "    print(\"s is part of siddharth\")\n",
    "else:\n",
    "    print(\"s is not part of siddharth\")\n",
    "for i in 'siddharth':\n",
    "    print(i, end=\" \")\n"
   ]
  },
  {
   "cell_type": "code",
   "execution_count": null,
   "id": "d9d7b91c",
   "metadata": {},
   "outputs": [],
   "source": [
    "# Iteration Keywords: for, while, break, continue, pass\n",
    "# Conditional Keywords: if, elif, else\n",
    "# Structure Keywords: def, class, with, as, lambda\n",
    "# Return Keywords: return, yield\n",
    "# Exception Handling Keywords: try, except, raise, finally, assert\n",
    "# delete Keywords: del\n",
    "# Declaration Keywords: global, nonlocal\n",
    "# Logical Keywords: and, or\n",
    "# Special Keywords: async, await"
   ]
  },
  {
   "cell_type": "code",
   "execution_count": null,
   "id": "9afcf7f6",
   "metadata": {},
   "outputs": [],
   "source": [
    "#%% Dont assign reserved keywords as an identifier\n",
    "\n",
    "#True = 5 #will affect in future\n",
    "a=5\n",
    "print(a==5)"
   ]
  },
  {
   "cell_type": "markdown",
   "id": "e81fb0f4",
   "metadata": {},
   "source": [
    "# 3.  Identifiers"
   ]
  },
  {
   "cell_type": "code",
   "execution_count": null,
   "id": "d38bdb93",
   "metadata": {},
   "outputs": [],
   "source": [
    "\"\"\"\n",
    "3.  Identifiers: name we give to identify a variable, function, class, module or other object.\n",
    "    Ex. a = 5\n",
    "    here \"a\" is identifiers\n",
    "    \"=\" is operator\n",
    "    \"5\" is variable\n",
    "    \n",
    "\"\"\"\n",
    "#%% Dont assign reserved keywords as an identifier\n",
    "int = 5\n",
    "print(\"Type: \", int(3))# will show error"
   ]
  },
  {
   "cell_type": "markdown",
   "id": "f8eb866c",
   "metadata": {},
   "source": [
    "# 4.  Inbuilt data types"
   ]
  },
  {
   "cell_type": "code",
   "execution_count": null,
   "id": "410c9271",
   "metadata": {},
   "outputs": [],
   "source": [
    "\"\"\"\n",
    "4.  Inbuilt data types(Int, float, complex, bool)\n",
    "\"\"\"\n",
    "#%% inbuilt datatypes\n",
    "#numeric == int,float,complex,bool,byte\n",
    "cnum = complex(1,3)\n",
    "cnum2 = 6+6j\n",
    "print(\"Complex numbers: \",cnum,type(cnum),cnum2,type(cnum2))\n"
   ]
  },
  {
   "cell_type": "markdown",
   "id": "dcf17a69",
   "metadata": {},
   "source": [
    "# 5.  Operators"
   ]
  },
  {
   "cell_type": "code",
   "execution_count": null,
   "id": "f3557206",
   "metadata": {},
   "outputs": [],
   "source": [
    "\"\"\"\n",
    "5.  Operators in python\n",
    "    Arithemetic operation (+, -, *, /, %, //, **)\n",
    "    Relational operators for Comparison operators(>, >=, <, <=, ==)\n",
    "    Logical operators (and, or, not)\n",
    "    Bitwise operators(&, |, ^, ~, <<, >>)\n",
    "    Assignment operators(+=, -=, *=, /=, %=, //=, **=, &=, |=, ^=, >>=, <<=)\n",
    "    Special operators(is, is not)\n",
    "    \"\"\""
   ]
  },
  {
   "cell_type": "code",
   "execution_count": null,
   "id": "5f6b48e3",
   "metadata": {},
   "outputs": [],
   "source": [
    "#%% OPERATORS\n",
    "# ss = 5(44) #error\n",
    "precedence = 5*(4/4)\n",
    "print(\"precedence: \",precedence)\n",
    "reminder_operator = 23%5\n",
    "print(\"reminder operator: \",reminder_operator)"
   ]
  },
  {
   "cell_type": "code",
   "execution_count": null,
   "id": "a71502a8",
   "metadata": {},
   "outputs": [],
   "source": [
    "f_division = 23//5\n",
    "print(\"floor division: \",f_division)\n",
    "\n",
    "import numpy as np\n",
    "k = np.array([1,2,35,7,9])\n",
    "kk = ((k>3)&(k<99))\n",
    "print(\"Bitwise operations: \",kk)"
   ]
  },
  {
   "cell_type": "code",
   "execution_count": null,
   "id": "453578ba",
   "metadata": {},
   "outputs": [],
   "source": [
    "#%% Assignment Operators: repeats ourself\n",
    "i = 2\n",
    "i = i+5  #equivalent to i += 5\n",
    "print(i)\n",
    "\n",
    "j = 3\n",
    "j += 2\n",
    "j += 3\n",
    "print(j)"
   ]
  },
  {
   "cell_type": "code",
   "execution_count": 4,
   "id": "60629c95",
   "metadata": {},
   "outputs": [
    {
     "name": "stdout",
     "output_type": "stream",
     "text": [
      "Id of r and g:  2319114769152 2319114768512\n",
      "False\n",
      "2319027759472 2319027759472 6 3 2319027759568 2319027759472\n"
     ]
    }
   ],
   "source": [
    "# Special operator\n",
    "r = [6,7,8]\n",
    "g = [6,7,8]\n",
    "print(\"Id of r and g: \",id(r), id(g))\n",
    "print(r is g)\n",
    "\n",
    "s1 = 3\n",
    "s2 = 3\n",
    "s3 = s1+3\n",
    "s4 = s2\n",
    "print(id(s1), id(s2),s3,s4,id(s3), id(s4))"
   ]
  },
  {
   "cell_type": "code",
   "execution_count": null,
   "id": "dd758dae",
   "metadata": {},
   "outputs": [],
   "source": []
  }
 ],
 "metadata": {
  "kernelspec": {
   "display_name": "Python 3 (ipykernel)",
   "language": "python",
   "name": "python3"
  },
  "language_info": {
   "codemirror_mode": {
    "name": "ipython",
    "version": 3
   },
   "file_extension": ".py",
   "mimetype": "text/x-python",
   "name": "python",
   "nbconvert_exporter": "python",
   "pygments_lexer": "ipython3",
   "version": "3.9.12"
  }
 },
 "nbformat": 4,
 "nbformat_minor": 5
}
