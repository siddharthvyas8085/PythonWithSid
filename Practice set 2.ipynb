{
 "cells": [
  {
   "cell_type": "markdown",
   "id": "48b33cad",
   "metadata": {},
   "source": [
    "# Write the forward and reverse index of given string \"STRING\""
   ]
  },
  {
   "cell_type": "code",
   "execution_count": 52,
   "id": "9aa10ace",
   "metadata": {},
   "outputs": [
    {
     "data": {
      "text/plain": [
       "[(0, 'S'), (1, 'T'), (2, 'R'), (3, 'I'), (4, 'N'), (5, 'G')]"
      ]
     },
     "execution_count": 52,
     "metadata": {},
     "output_type": "execute_result"
    }
   ],
   "source": [
    "input_string = \"STRING\"\n",
    "list(enumerate(input_string))"
   ]
  },
  {
   "cell_type": "code",
   "execution_count": 53,
   "id": "5d5908d0",
   "metadata": {},
   "outputs": [
    {
     "name": "stdout",
     "output_type": "stream",
     "text": [
      "S 0\n",
      "T 1\n",
      "R 2\n",
      "I 3\n",
      "N 4\n",
      "G 5\n"
     ]
    }
   ],
   "source": [
    "i=\"STRING\"\n",
    "count = 0\n",
    "for j in i:\n",
    "    print(j,count)\n",
    "    count = count+1"
   ]
  },
  {
   "cell_type": "code",
   "execution_count": 54,
   "id": "b25d555d",
   "metadata": {},
   "outputs": [
    {
     "name": "stdout",
     "output_type": "stream",
     "text": [
      "Letter: S forward index 0 reverse index -6\n",
      "Letter: T forward index 1 reverse index -5\n",
      "Letter: R forward index 2 reverse index -4\n",
      "Letter: I forward index 3 reverse index -3\n",
      "Letter: N forward index 4 reverse index -2\n",
      "Letter: G forward index 5 reverse index -1\n"
     ]
    }
   ],
   "source": [
    "a=\"STRING\"\n",
    "count =0 \n",
    "count2 =-(len(a))\n",
    "for i in a:\n",
    "    print(\"Letter:\",i ,\"forward index\",count,\"reverse index\",count2)\n",
    "    # print(\"Letter:{} forward index {} reverse index {}\".format(i,count count2)) \n",
    "    count=count+1\n",
    "    count2= count2+1"
   ]
  },
  {
   "cell_type": "code",
   "execution_count": 26,
   "id": "2fc57b66",
   "metadata": {},
   "outputs": [
    {
     "name": "stdout",
     "output_type": "stream",
     "text": [
      "Letter:A forward index 0 reverse index -8\n",
      "Letter:N forward index 1 reverse index -7\n",
      "Letter:I forward index 2 reverse index -6\n",
      "Letter:N forward index 3 reverse index -5\n",
      "Letter:D forward index 4 reverse index -4\n",
      "Letter:I forward index 5 reverse index -3\n",
      "Letter:T forward index 6 reverse index -2\n",
      "Letter:A forward index 7 reverse index -1\n"
     ]
    }
   ],
   "source": [
    "a=\"STRING\"\n",
    "count=0\n",
    "count2=-(len(a))\n",
    "for i in a:\n",
    "    print(\"Letter:\",i,\"forward index\",count,\"reverse index\",count2)\n",
    "#     print(f\"Letter:{i} forward index {count} reverse index {count2}\")\n",
    "#     print(\"Letter:{} forward index {} reverse index {}\".format(i,count,count2))\n",
    "#     print(\"Letter:%s forward index %i reverse index %i\"%(i,count,count2))\n",
    "    count=count+1\n",
    "    count2=count2+1"
   ]
  },
  {
   "cell_type": "markdown",
   "id": "2dde0847",
   "metadata": {},
   "source": [
    "# Write the program for given input and output\n",
    "input=1 ==> ONE\n",
    "input=2 ==> TWO"
   ]
  },
  {
   "cell_type": "code",
   "execution_count": 30,
   "id": "f12feae2",
   "metadata": {},
   "outputs": [
    {
     "data": {
      "text/plain": [
       "2"
      ]
     },
     "execution_count": 30,
     "metadata": {},
     "output_type": "execute_result"
    }
   ],
   "source": [
    "# basic concept\n",
    "d = {\"A\":1,\"B\":2}\n",
    "# (key: value)\n",
    "d[\"B\"]"
   ]
  },
  {
   "cell_type": "code",
   "execution_count": 55,
   "id": "e502d7ae",
   "metadata": {},
   "outputs": [],
   "source": [
    "d = {\"one\":1,\"two\":2,\"three\":3,\"four\":4} \n",
    "# print(\"keys:\",d.keys())\n",
    "# print(\"Values:\",d.values())\n",
    "# dd = dict(zip(d.values(),d.keys()))\n",
    "# d[\"two\"]\n",
    "# dd"
   ]
  },
  {
   "cell_type": "code",
   "execution_count": null,
   "id": "db3f5444",
   "metadata": {},
   "outputs": [],
   "source": [
    "a = input(\"Enter a number from 0 to 4:\")"
   ]
  },
  {
   "cell_type": "code",
   "execution_count": 44,
   "id": "29130e42",
   "metadata": {},
   "outputs": [
    {
     "name": "stdout",
     "output_type": "stream",
     "text": [
      "Enter a number from 0 to 4:1\n",
      "<class 'int'>\n",
      "Output: one\n"
     ]
    }
   ],
   "source": [
    "userinput1 = eval(input(\"Enter a number from 0 to 4:\"))\n",
    "print(type(userinput1))\n",
    "if userinput1 == 1:\n",
    "    output1 = \"one\"\n",
    "elif userinput1 == 2:\n",
    "    output1='two'\n",
    "print(\"Output:\", output1)"
   ]
  },
  {
   "cell_type": "code",
   "execution_count": 41,
   "id": "6a3e78a5",
   "metadata": {},
   "outputs": [
    {
     "data": {
      "text/plain": [
       "False"
      ]
     },
     "execution_count": 41,
     "metadata": {},
     "output_type": "execute_result"
    }
   ],
   "source": [
    "'2'==2"
   ]
  },
  {
   "cell_type": "code",
   "execution_count": 48,
   "id": "b3ba6a27",
   "metadata": {},
   "outputs": [
    {
     "name": "stdout",
     "output_type": "stream",
     "text": [
      "enter number between 0 to 41\n"
     ]
    },
    {
     "data": {
      "text/plain": [
       "'one'"
      ]
     },
     "execution_count": 48,
     "metadata": {},
     "output_type": "execute_result"
    }
   ],
   "source": [
    "d = {1:\"one\",2:\"two\",3:\"three\",4:\"four\"}\n",
    "di=eval(input(\"enter number between 0 to 4\"))\n",
    "d[di]"
   ]
  },
  {
   "cell_type": "code",
   "execution_count": 51,
   "id": "77d9e40b",
   "metadata": {},
   "outputs": [
    {
     "data": {
      "text/plain": [
       "{1: 'one', 2: 'two', 3: 'three', 4: 'four', 6: 'four', '6': 'four'}"
      ]
     },
     "execution_count": 51,
     "metadata": {},
     "output_type": "execute_result"
    }
   ],
   "source": [
    "d.setdefault('6',\"four\")\n",
    "d"
   ]
  },
  {
   "cell_type": "code",
   "execution_count": null,
   "id": "86d7b85d",
   "metadata": {},
   "outputs": [],
   "source": []
  }
 ],
 "metadata": {
  "kernelspec": {
   "display_name": "Python 3 (ipykernel)",
   "language": "python",
   "name": "python3"
  },
  "language_info": {
   "codemirror_mode": {
    "name": "ipython",
    "version": 3
   },
   "file_extension": ".py",
   "mimetype": "text/x-python",
   "name": "python",
   "nbconvert_exporter": "python",
   "pygments_lexer": "ipython3",
   "version": "3.9.12"
  }
 },
 "nbformat": 4,
 "nbformat_minor": 5
}
