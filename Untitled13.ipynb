{
 "cells": [
  {
   "cell_type": "markdown",
   "id": "b0ac803a",
   "metadata": {},
   "source": [
    "# 1) Given a list, write a Python program to swap first and last element of the list."
   ]
  },
  {
   "cell_type": "code",
   "execution_count": 4,
   "id": "a992a464",
   "metadata": {},
   "outputs": [
    {
     "data": {
      "text/plain": [
       "[24, 35, 9, 56, 12]"
      ]
     },
     "execution_count": 4,
     "metadata": {},
     "output_type": "execute_result"
    }
   ],
   "source": [
    "# by using normal swaping \n",
    "l = [12, 35, 9, 56, 24]\n",
    "n = len(l)\n",
    "first  = l[0]\n",
    "last = l[n-1]\n",
    "l[0] = last\n",
    "l[n-1] = first\n",
    "l"
   ]
  },
  {
   "cell_type": "code",
   "execution_count": 5,
   "id": "ed7702a7",
   "metadata": {},
   "outputs": [
    {
     "data": {
      "text/plain": [
       "[24, 35, 9, 56, 12]"
      ]
     },
     "execution_count": 5,
     "metadata": {},
     "output_type": "execute_result"
    }
   ],
   "source": [
    "l = [12, 35, 9, 56, 24]\n",
    "first  = l[0]\n",
    "last = l[-1]\n",
    "l[0] = last\n",
    "l[-1] = first\n",
    "l"
   ]
  },
  {
   "cell_type": "code",
   "execution_count": 7,
   "id": "b498b693",
   "metadata": {},
   "outputs": [
    {
     "data": {
      "text/plain": [
       "[24, 35, 9, 56, 12]"
      ]
     },
     "execution_count": 7,
     "metadata": {},
     "output_type": "execute_result"
    }
   ],
   "source": [
    "# Swaping\n",
    "l = [12, 35, 9, 56, 24]\n",
    "l[0],l[-1] = l[-1],l[0]\n",
    "l\n",
    "\n",
    "# a = 2\n",
    "# b = 3\n",
    "# a,b = b,a\n",
    "# print(a,b)"
   ]
  },
  {
   "cell_type": "code",
   "execution_count": 12,
   "id": "89a025bc",
   "metadata": {},
   "outputs": [
    {
     "name": "stdout",
     "output_type": "stream",
     "text": [
      "12 [35, 9, 56] 24\n"
     ]
    },
    {
     "data": {
      "text/plain": [
       "(24, 35, 9, 56, 12)"
      ]
     },
     "execution_count": 12,
     "metadata": {},
     "output_type": "execute_result"
    }
   ],
   "source": [
    "# by using * operand\n",
    "l = [12, 35, 9, 56, 24]\n",
    "first, *middle, last = l\n",
    "print(first, middle, last)\n",
    "l = last, *middle, first\n",
    "l\n",
    "# def square(*x):\n",
    "#     for xx in x:\n",
    "#         return xx*xx\n",
    "# square([4,5])"
   ]
  },
  {
   "cell_type": "markdown",
   "id": "289ebdda",
   "metadata": {},
   "source": [
    "# Find the Length of a List in Python"
   ]
  },
  {
   "cell_type": "code",
   "execution_count": 13,
   "id": "28697517",
   "metadata": {},
   "outputs": [
    {
     "data": {
      "text/plain": [
       "5"
      ]
     },
     "execution_count": 13,
     "metadata": {},
     "output_type": "execute_result"
    }
   ],
   "source": [
    "l = [12, 35, 9, 56, 24]\n",
    "len(l)"
   ]
  },
  {
   "cell_type": "code",
   "execution_count": 14,
   "id": "2d43ce8f",
   "metadata": {},
   "outputs": [
    {
     "data": {
      "text/plain": [
       "5"
      ]
     },
     "execution_count": 14,
     "metadata": {},
     "output_type": "execute_result"
    }
   ],
   "source": [
    "count=0\n",
    "for i in l:\n",
    "    count += 1\n",
    "count"
   ]
  },
  {
   "cell_type": "code",
   "execution_count": 16,
   "id": "493919da",
   "metadata": {},
   "outputs": [
    {
     "data": {
      "text/plain": [
       "5"
      ]
     },
     "execution_count": 16,
     "metadata": {},
     "output_type": "execute_result"
    }
   ],
   "source": [
    "from operator import  length_hint\n",
    "count = length_hint(l)\n",
    "count"
   ]
  },
  {
   "cell_type": "code",
   "execution_count": 19,
   "id": "76952d3a",
   "metadata": {},
   "outputs": [
    {
     "name": "stdout",
     "output_type": "stream",
     "text": [
      "Counting: 1\n",
      "Counting: 2\n",
      "Counting: 3\n",
      "Counting: 4\n",
      "Counting: 5\n"
     ]
    }
   ],
   "source": [
    "count=0\n",
    "for i in l:\n",
    "    count = sum([1,count])\n",
    "    print(\"Counting:\",count)\n",
    "# count"
   ]
  },
  {
   "cell_type": "code",
   "execution_count": 20,
   "id": "c2dbd4f3",
   "metadata": {},
   "outputs": [
    {
     "data": {
      "text/plain": [
       "5"
      ]
     },
     "execution_count": 20,
     "metadata": {},
     "output_type": "execute_result"
    }
   ],
   "source": [
    "# count = sum(1 for i in l)\n",
    "# count"
   ]
  },
  {
   "cell_type": "code",
   "execution_count": 31,
   "id": "fbcd932e",
   "metadata": {},
   "outputs": [
    {
     "name": "stdout",
     "output_type": "stream",
     "text": [
      "[(12, 12), (35, 35), (9, 9), (56, 56), (24, 24)]\n"
     ]
    },
    {
     "data": {
      "text/plain": [
       "[24, 70, 18, 112, 48]"
      ]
     },
     "execution_count": 31,
     "metadata": {},
     "output_type": "execute_result"
    }
   ],
   "source": [
    "# Using enumerate function\n",
    "l = [12, 35, 9, 56, 24]\n",
    "enumerate(l)\n",
    "l2 = list(enumerate(l))\n",
    "l2\n",
    "# list(enumerate('richa'))\n",
    "# count = 0\n",
    "# for ind,val in l2:\n",
    "#     print(ind+1)\n",
    "    \n",
    "l3 = [12, 35, 9, 56, 24]\n",
    "l4 = [12, 35, 9, 56, 24]\n",
    "print(list(zip(l3,l4)))\n",
    "l5 = []\n",
    "for ele1,ele2 in zip(l3,l4):\n",
    "    l5.append(ele1+ele2)\n",
    "l5\n",
    "# list coperahension\n",
    "l6 = [ele1+ele2 for (ele1,ele2) in zip(l3,l4)]"
   ]
  },
  {
   "cell_type": "code",
   "execution_count": 25,
   "id": "d9f4366f",
   "metadata": {},
   "outputs": [
    {
     "data": {
      "text/plain": [
       "5"
      ]
     },
     "execution_count": 25,
     "metadata": {},
     "output_type": "execute_result"
    }
   ],
   "source": [
    "# k = [(0, 12), (1, 35), (2, 9), (3, 56), (4, 24)]\n",
    "# len(k)"
   ]
  },
  {
   "cell_type": "code",
   "execution_count": 32,
   "id": "30872aca",
   "metadata": {},
   "outputs": [
    {
     "data": {
      "text/plain": [
       "7"
      ]
     },
     "execution_count": 32,
     "metadata": {},
     "output_type": "execute_result"
    }
   ],
   "source": [
    "a,b = 6,7\n",
    "max(a,b)"
   ]
  },
  {
   "cell_type": "code",
   "execution_count": 33,
   "id": "fd65b487",
   "metadata": {},
   "outputs": [
    {
     "data": {
      "text/plain": [
       "56"
      ]
     },
     "execution_count": 33,
     "metadata": {},
     "output_type": "execute_result"
    }
   ],
   "source": [
    "max(l)"
   ]
  },
  {
   "cell_type": "code",
   "execution_count": 47,
   "id": "e3bed942",
   "metadata": {},
   "outputs": [
    {
     "data": {
      "text/plain": [
       "56"
      ]
     },
     "execution_count": 47,
     "metadata": {},
     "output_type": "execute_result"
    }
   ],
   "source": [
    "l = [12, 35, 9, 56, 24]\n",
    "# l.sort(reverse=True)\n",
    "# print(l)\n",
    "# def maximum(li):\n",
    "#     li.sort()\n",
    "#     mini,maxi = li[0],li[-1]\n",
    "#     return mini,maxi\n",
    "# maximum(l)\n",
    "\n",
    "def maximum2(li):\n",
    "    maxi = li[0]\n",
    "    for item in li[1:]:\n",
    "        if item>maxi:\n",
    "            maxi = item\n",
    "    return maxi\n",
    "maximum2(l)"
   ]
  },
  {
   "cell_type": "code",
   "execution_count": 49,
   "id": "6d6f9c58",
   "metadata": {},
   "outputs": [
    {
     "name": "stdout",
     "output_type": "stream",
     "text": [
      "7\n"
     ]
    }
   ],
   "source": [
    "# ternary operator\n",
    "print(a if a>b else b)"
   ]
  },
  {
   "cell_type": "code",
   "execution_count": 52,
   "id": "cafe1bea",
   "metadata": {},
   "outputs": [
    {
     "data": {
      "text/plain": [
       "7"
      ]
     },
     "execution_count": 52,
     "metadata": {},
     "output_type": "execute_result"
    }
   ],
   "source": [
    "# by using lambda function\n",
    "f = lambda a,b: a if a>b else b\n",
    "f(6,7)"
   ]
  },
  {
   "cell_type": "markdown",
   "id": "5663462e",
   "metadata": {},
   "source": [
    "# Remove duplicate elements from a list"
   ]
  },
  {
   "cell_type": "code",
   "execution_count": 88,
   "id": "27be67a7",
   "metadata": {},
   "outputs": [
    {
     "name": "stdout",
     "output_type": "stream",
     "text": [
      "{56: 2, 35: 4, 9: 2, 24: 1}\n"
     ]
    },
    {
     "data": {
      "text/plain": [
       "[24]"
      ]
     },
     "execution_count": 88,
     "metadata": {},
     "output_type": "execute_result"
    }
   ],
   "source": [
    "# l1 = [12, 35, 9, 56, 24, 9, 35] #[12,35,9,56,24]\n",
    "# uniquevals = []\n",
    "# for itm in l1:\n",
    "#     if itm not in uniquevals:\n",
    "#         uniquevals.append(itm)\n",
    "# uniquevals    \n",
    "# s1 = set(l1)\n",
    "\n",
    "\n",
    "# print(s1)\n",
    "l2 = [12, 35, 9, 56, 24, 9, 35,35,35] #[12,56,24]\n",
    "l3 = [56,35,9, 56, 24, 9, 35,35,35] #[12,56,24]\n",
    "def remove_duplicate(l2):\n",
    "    d = dict()\n",
    "    for itm in l2:\n",
    "        d[itm]=d.get(itm,0)+1\n",
    "    d\n",
    "    print(d)\n",
    "    # uniquevals = []\n",
    "    # for k in d:\n",
    "    #     if d[k]==1:\n",
    "    #         uniquevals.append(k)\n",
    "    # uniquevals\n",
    "    # uniquevals = []\n",
    "    for k in d:\n",
    "        if d[k]!=1:\n",
    "            v=d[k]\n",
    "            while v>=1:\n",
    "                l2.remove(k)\n",
    "                v = v-1\n",
    "    return l2\n",
    "remove_duplicate(l3)"
   ]
  },
  {
   "cell_type": "code",
   "execution_count": 89,
   "id": "171cc7eb",
   "metadata": {},
   "outputs": [
    {
     "data": {
      "text/plain": [
       "[(9, 4)]"
      ]
     },
     "execution_count": 89,
     "metadata": {},
     "output_type": "execute_result"
    }
   ],
   "source": [
    "li = [(),(9,4)]\n",
    "for itm in li:\n",
    "    if len(itm)==0:\n",
    "        li.remove(itm)\n",
    "li"
   ]
  },
  {
   "cell_type": "markdown",
   "id": "b08084ab",
   "metadata": {},
   "source": [
    "# Python program to print even length words in a string"
   ]
  },
  {
   "cell_type": "code",
   "execution_count": 91,
   "id": "43342032",
   "metadata": {},
   "outputs": [
    {
     "name": "stdout",
     "output_type": "stream",
     "text": [
      "anindita\n",
      "bisariya\n"
     ]
    }
   ],
   "source": [
    "ll = ['anindita','richa','jay','sid','bisariya']\n",
    "for name in ll:\n",
    "    if len(name)%2 == 0:\n",
    "        print(name)"
   ]
  },
  {
   "cell_type": "markdown",
   "id": "f5842af3",
   "metadata": {},
   "source": [
    "# Create a program that checks if two sets have any elements in common\n"
   ]
  },
  {
   "cell_type": "code",
   "execution_count": 94,
   "id": "02cefa89",
   "metadata": {},
   "outputs": [
    {
     "data": {
      "text/plain": [
       "{3, 5}"
      ]
     },
     "execution_count": 94,
     "metadata": {},
     "output_type": "execute_result"
    }
   ],
   "source": [
    "s1 = {2, 3, 4, 5}\n",
    "s2 = {3, 5, 7, 8}\n",
    "s = set()\n",
    "for itm in s1:\n",
    "    if itm in s2:\n",
    "        s.add(itm)\n",
    "s"
   ]
  },
  {
   "cell_type": "code",
   "execution_count": null,
   "id": "1b78a453",
   "metadata": {},
   "outputs": [],
   "source": [
    "s1 = {2, 3, 4, 5}\n",
    "s2 = {3, 5, 7, 8}\n",
    "s = set()\n",
    "for itm1 in s1:\n",
    "    for itm2 in s2:\n",
    "        if itm1==itm2:\n",
    "            s.add(itm1)\n",
    "s"
   ]
  },
  {
   "cell_type": "code",
   "execution_count": 95,
   "id": "3e3eee30",
   "metadata": {},
   "outputs": [
    {
     "data": {
      "text/plain": [
       "0.5653736147259241"
      ]
     },
     "execution_count": 95,
     "metadata": {},
     "output_type": "execute_result"
    }
   ],
   "source": [
    "import numpy as np\n",
    "1.0/(1.0+np.exp(-0.263))"
   ]
  },
  {
   "cell_type": "code",
   "execution_count": null,
   "id": "0a062f2d",
   "metadata": {},
   "outputs": [],
   "source": []
  }
 ],
 "metadata": {
  "kernelspec": {
   "display_name": "Python 3 (ipykernel)",
   "language": "python",
   "name": "python3"
  },
  "language_info": {
   "codemirror_mode": {
    "name": "ipython",
    "version": 3
   },
   "file_extension": ".py",
   "mimetype": "text/x-python",
   "name": "python",
   "nbconvert_exporter": "python",
   "pygments_lexer": "ipython3",
   "version": "3.9.12"
  }
 },
 "nbformat": 4,
 "nbformat_minor": 5
}
